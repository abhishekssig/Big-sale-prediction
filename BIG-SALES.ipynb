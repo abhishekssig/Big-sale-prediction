{
 "cells": [
  {
   "cell_type": "code",
   "execution_count": 1,
   "metadata": {},
   "outputs": [],
   "source": [
    "import pandas as pd\n",
    "import numpy as np                     # For mathematical calculations\n",
    "import seaborn as sns                  # For data visualization\n",
    "import matplotlib.pyplot as plt \n",
    "import seaborn as sn                   # For plotting graphs\n",
    "import io\n",
    "%matplotlib inline\n",
    "import warnings                        # To ignore any warnings\n",
    "warnings.filterwarnings(\"ignore\")"
   ]
  },
  {
   "cell_type": "code",
   "execution_count": 2,
   "metadata": {},
   "outputs": [
    {
     "name": "stdout",
     "output_type": "stream",
     "text": [
      "      Item_Identifier  Item_Weight Item_Fat_Content  Item_Visibility  \\\n",
      "0               FDT36         12.3          Low Fat         0.111448   \n",
      "1               FDT36         12.3          Low Fat         0.111904   \n",
      "2               FDT36         12.3               LF         0.111728   \n",
      "3               FDT36         12.3          Low Fat         0.000000   \n",
      "4               FDP12          9.8          Regular         0.045523   \n",
      "...               ...          ...              ...              ...   \n",
      "14199           FDG47         12.8          Low Fat         0.069606   \n",
      "14200           FDG47         12.8          Low Fat         0.070013   \n",
      "14201           FDG47         12.8          Low Fat         0.069561   \n",
      "14202           FDG47          NaN          Low Fat         0.069282   \n",
      "14203           FDG47         12.8          Low Fat         0.069727   \n",
      "\n",
      "           Item_Type  Item_MRP Outlet_Identifier  Outlet_Establishment_Year  \\\n",
      "0       Baking Goods   33.4874            OUT049                       1999   \n",
      "1       Baking Goods   33.9874            OUT017                       2007   \n",
      "2       Baking Goods   33.9874            OUT018                       2009   \n",
      "3       Baking Goods   34.3874            OUT019                       1985   \n",
      "4       Baking Goods   35.0874            OUT017                       2007   \n",
      "...              ...       ...               ...                        ...   \n",
      "14199  Starchy Foods  261.9252            OUT035                       2004   \n",
      "14200  Starchy Foods  262.8252            OUT017                       2007   \n",
      "14201  Starchy Foods  263.0252            OUT013                       1987   \n",
      "14202  Starchy Foods  263.5252            OUT027                       1985   \n",
      "14203  Starchy Foods  263.6252            OUT049                       1999   \n",
      "\n",
      "      Outlet_Size Outlet_Location_Type        Outlet_Type  Item_Outlet_Sales  \n",
      "0          Medium               Tier 1  Supermarket Type1         436.608721  \n",
      "1          Medium               Tier 2  Supermarket Type1         443.127721  \n",
      "2          Medium               Tier 3  Supermarket Type2         564.598400  \n",
      "3           Small               Tier 1      Grocery Store        1719.370000  \n",
      "4          Medium               Tier 2  Supermarket Type1         352.874000  \n",
      "...           ...                  ...                ...                ...  \n",
      "14199       Small               Tier 2  Supermarket Type1        4984.178800  \n",
      "14200      Medium               Tier 2  Supermarket Type1        2885.577200  \n",
      "14201        High               Tier 3  Supermarket Type1        2885.577200  \n",
      "14202      Medium               Tier 3  Supermarket Type3        3803.676434  \n",
      "14203      Medium               Tier 1  Supermarket Type1        3644.354765  \n",
      "\n",
      "[14204 rows x 12 columns]\n"
     ]
    }
   ],
   "source": [
    "filepath2 = r\"C:\\Users\\91623\\OneDrive\\Desktop\\projects\\bigsales\\big.csv\"\n",
    "df= pd.read_csv(filepath2)\n",
    "print(df)"
   ]
  },
  {
   "cell_type": "code",
   "execution_count": 3,
   "metadata": {},
   "outputs": [
    {
     "data": {
      "text/html": [
       "<div>\n",
       "<style scoped>\n",
       "    .dataframe tbody tr th:only-of-type {\n",
       "        vertical-align: middle;\n",
       "    }\n",
       "\n",
       "    .dataframe tbody tr th {\n",
       "        vertical-align: top;\n",
       "    }\n",
       "\n",
       "    .dataframe thead th {\n",
       "        text-align: right;\n",
       "    }\n",
       "</style>\n",
       "<table border=\"1\" class=\"dataframe\">\n",
       "  <thead>\n",
       "    <tr style=\"text-align: right;\">\n",
       "      <th></th>\n",
       "      <th>Item_Identifier</th>\n",
       "      <th>Item_Weight</th>\n",
       "      <th>Item_Fat_Content</th>\n",
       "      <th>Item_Visibility</th>\n",
       "      <th>Item_Type</th>\n",
       "      <th>Item_MRP</th>\n",
       "      <th>Outlet_Identifier</th>\n",
       "      <th>Outlet_Establishment_Year</th>\n",
       "      <th>Outlet_Size</th>\n",
       "      <th>Outlet_Location_Type</th>\n",
       "      <th>Outlet_Type</th>\n",
       "      <th>Item_Outlet_Sales</th>\n",
       "    </tr>\n",
       "  </thead>\n",
       "  <tbody>\n",
       "    <tr>\n",
       "      <th>0</th>\n",
       "      <td>FDT36</td>\n",
       "      <td>12.3</td>\n",
       "      <td>Low Fat</td>\n",
       "      <td>0.111448</td>\n",
       "      <td>Baking Goods</td>\n",
       "      <td>33.4874</td>\n",
       "      <td>OUT049</td>\n",
       "      <td>1999</td>\n",
       "      <td>Medium</td>\n",
       "      <td>Tier 1</td>\n",
       "      <td>Supermarket Type1</td>\n",
       "      <td>436.608721</td>\n",
       "    </tr>\n",
       "    <tr>\n",
       "      <th>1</th>\n",
       "      <td>FDT36</td>\n",
       "      <td>12.3</td>\n",
       "      <td>Low Fat</td>\n",
       "      <td>0.111904</td>\n",
       "      <td>Baking Goods</td>\n",
       "      <td>33.9874</td>\n",
       "      <td>OUT017</td>\n",
       "      <td>2007</td>\n",
       "      <td>Medium</td>\n",
       "      <td>Tier 2</td>\n",
       "      <td>Supermarket Type1</td>\n",
       "      <td>443.127721</td>\n",
       "    </tr>\n",
       "    <tr>\n",
       "      <th>2</th>\n",
       "      <td>FDT36</td>\n",
       "      <td>12.3</td>\n",
       "      <td>LF</td>\n",
       "      <td>0.111728</td>\n",
       "      <td>Baking Goods</td>\n",
       "      <td>33.9874</td>\n",
       "      <td>OUT018</td>\n",
       "      <td>2009</td>\n",
       "      <td>Medium</td>\n",
       "      <td>Tier 3</td>\n",
       "      <td>Supermarket Type2</td>\n",
       "      <td>564.598400</td>\n",
       "    </tr>\n",
       "    <tr>\n",
       "      <th>3</th>\n",
       "      <td>FDT36</td>\n",
       "      <td>12.3</td>\n",
       "      <td>Low Fat</td>\n",
       "      <td>0.000000</td>\n",
       "      <td>Baking Goods</td>\n",
       "      <td>34.3874</td>\n",
       "      <td>OUT019</td>\n",
       "      <td>1985</td>\n",
       "      <td>Small</td>\n",
       "      <td>Tier 1</td>\n",
       "      <td>Grocery Store</td>\n",
       "      <td>1719.370000</td>\n",
       "    </tr>\n",
       "    <tr>\n",
       "      <th>4</th>\n",
       "      <td>FDP12</td>\n",
       "      <td>9.8</td>\n",
       "      <td>Regular</td>\n",
       "      <td>0.045523</td>\n",
       "      <td>Baking Goods</td>\n",
       "      <td>35.0874</td>\n",
       "      <td>OUT017</td>\n",
       "      <td>2007</td>\n",
       "      <td>Medium</td>\n",
       "      <td>Tier 2</td>\n",
       "      <td>Supermarket Type1</td>\n",
       "      <td>352.874000</td>\n",
       "    </tr>\n",
       "  </tbody>\n",
       "</table>\n",
       "</div>"
      ],
      "text/plain": [
       "  Item_Identifier  Item_Weight Item_Fat_Content  Item_Visibility  \\\n",
       "0           FDT36         12.3          Low Fat         0.111448   \n",
       "1           FDT36         12.3          Low Fat         0.111904   \n",
       "2           FDT36         12.3               LF         0.111728   \n",
       "3           FDT36         12.3          Low Fat         0.000000   \n",
       "4           FDP12          9.8          Regular         0.045523   \n",
       "\n",
       "      Item_Type  Item_MRP Outlet_Identifier  Outlet_Establishment_Year  \\\n",
       "0  Baking Goods   33.4874            OUT049                       1999   \n",
       "1  Baking Goods   33.9874            OUT017                       2007   \n",
       "2  Baking Goods   33.9874            OUT018                       2009   \n",
       "3  Baking Goods   34.3874            OUT019                       1985   \n",
       "4  Baking Goods   35.0874            OUT017                       2007   \n",
       "\n",
       "  Outlet_Size Outlet_Location_Type        Outlet_Type  Item_Outlet_Sales  \n",
       "0      Medium               Tier 1  Supermarket Type1         436.608721  \n",
       "1      Medium               Tier 2  Supermarket Type1         443.127721  \n",
       "2      Medium               Tier 3  Supermarket Type2         564.598400  \n",
       "3       Small               Tier 1      Grocery Store        1719.370000  \n",
       "4      Medium               Tier 2  Supermarket Type1         352.874000  "
      ]
     },
     "execution_count": 3,
     "metadata": {},
     "output_type": "execute_result"
    }
   ],
   "source": [
    "df.head()"
   ]
  },
  {
   "cell_type": "code",
   "execution_count": 4,
   "metadata": {},
   "outputs": [
    {
     "name": "stdout",
     "output_type": "stream",
     "text": [
      "<class 'pandas.core.frame.DataFrame'>\n",
      "RangeIndex: 14204 entries, 0 to 14203\n",
      "Data columns (total 12 columns):\n",
      " #   Column                     Non-Null Count  Dtype  \n",
      "---  ------                     --------------  -----  \n",
      " 0   Item_Identifier            14204 non-null  object \n",
      " 1   Item_Weight                11815 non-null  float64\n",
      " 2   Item_Fat_Content           14204 non-null  object \n",
      " 3   Item_Visibility            14204 non-null  float64\n",
      " 4   Item_Type                  14204 non-null  object \n",
      " 5   Item_MRP                   14204 non-null  float64\n",
      " 6   Outlet_Identifier          14204 non-null  object \n",
      " 7   Outlet_Establishment_Year  14204 non-null  int64  \n",
      " 8   Outlet_Size                14204 non-null  object \n",
      " 9   Outlet_Location_Type       14204 non-null  object \n",
      " 10  Outlet_Type                14204 non-null  object \n",
      " 11  Item_Outlet_Sales          14204 non-null  float64\n",
      "dtypes: float64(4), int64(1), object(7)\n",
      "memory usage: 1.3+ MB\n"
     ]
    }
   ],
   "source": [
    "df.info()"
   ]
  },
  {
   "cell_type": "code",
   "execution_count": 5,
   "metadata": {},
   "outputs": [],
   "source": [
    "df.columns = df.columns.str.lower()"
   ]
  },
  {
   "cell_type": "code",
   "execution_count": 6,
   "metadata": {},
   "outputs": [
    {
     "data": {
      "text/html": [
       "<div>\n",
       "<style scoped>\n",
       "    .dataframe tbody tr th:only-of-type {\n",
       "        vertical-align: middle;\n",
       "    }\n",
       "\n",
       "    .dataframe tbody tr th {\n",
       "        vertical-align: top;\n",
       "    }\n",
       "\n",
       "    .dataframe thead th {\n",
       "        text-align: right;\n",
       "    }\n",
       "</style>\n",
       "<table border=\"1\" class=\"dataframe\">\n",
       "  <thead>\n",
       "    <tr style=\"text-align: right;\">\n",
       "      <th></th>\n",
       "      <th>item_identifier</th>\n",
       "      <th>item_weight</th>\n",
       "      <th>item_fat_content</th>\n",
       "      <th>item_visibility</th>\n",
       "      <th>item_type</th>\n",
       "      <th>item_mrp</th>\n",
       "      <th>outlet_identifier</th>\n",
       "      <th>outlet_establishment_year</th>\n",
       "      <th>outlet_size</th>\n",
       "      <th>outlet_location_type</th>\n",
       "      <th>outlet_type</th>\n",
       "      <th>item_outlet_sales</th>\n",
       "    </tr>\n",
       "  </thead>\n",
       "  <tbody>\n",
       "    <tr>\n",
       "      <th>0</th>\n",
       "      <td>FDT36</td>\n",
       "      <td>12.3</td>\n",
       "      <td>Low Fat</td>\n",
       "      <td>0.111448</td>\n",
       "      <td>Baking Goods</td>\n",
       "      <td>33.4874</td>\n",
       "      <td>OUT049</td>\n",
       "      <td>1999</td>\n",
       "      <td>Medium</td>\n",
       "      <td>Tier 1</td>\n",
       "      <td>Supermarket Type1</td>\n",
       "      <td>436.608721</td>\n",
       "    </tr>\n",
       "    <tr>\n",
       "      <th>1</th>\n",
       "      <td>FDT36</td>\n",
       "      <td>12.3</td>\n",
       "      <td>Low Fat</td>\n",
       "      <td>0.111904</td>\n",
       "      <td>Baking Goods</td>\n",
       "      <td>33.9874</td>\n",
       "      <td>OUT017</td>\n",
       "      <td>2007</td>\n",
       "      <td>Medium</td>\n",
       "      <td>Tier 2</td>\n",
       "      <td>Supermarket Type1</td>\n",
       "      <td>443.127721</td>\n",
       "    </tr>\n",
       "    <tr>\n",
       "      <th>2</th>\n",
       "      <td>FDT36</td>\n",
       "      <td>12.3</td>\n",
       "      <td>LF</td>\n",
       "      <td>0.111728</td>\n",
       "      <td>Baking Goods</td>\n",
       "      <td>33.9874</td>\n",
       "      <td>OUT018</td>\n",
       "      <td>2009</td>\n",
       "      <td>Medium</td>\n",
       "      <td>Tier 3</td>\n",
       "      <td>Supermarket Type2</td>\n",
       "      <td>564.598400</td>\n",
       "    </tr>\n",
       "    <tr>\n",
       "      <th>3</th>\n",
       "      <td>FDT36</td>\n",
       "      <td>12.3</td>\n",
       "      <td>Low Fat</td>\n",
       "      <td>0.000000</td>\n",
       "      <td>Baking Goods</td>\n",
       "      <td>34.3874</td>\n",
       "      <td>OUT019</td>\n",
       "      <td>1985</td>\n",
       "      <td>Small</td>\n",
       "      <td>Tier 1</td>\n",
       "      <td>Grocery Store</td>\n",
       "      <td>1719.370000</td>\n",
       "    </tr>\n",
       "    <tr>\n",
       "      <th>4</th>\n",
       "      <td>FDP12</td>\n",
       "      <td>9.8</td>\n",
       "      <td>Regular</td>\n",
       "      <td>0.045523</td>\n",
       "      <td>Baking Goods</td>\n",
       "      <td>35.0874</td>\n",
       "      <td>OUT017</td>\n",
       "      <td>2007</td>\n",
       "      <td>Medium</td>\n",
       "      <td>Tier 2</td>\n",
       "      <td>Supermarket Type1</td>\n",
       "      <td>352.874000</td>\n",
       "    </tr>\n",
       "  </tbody>\n",
       "</table>\n",
       "</div>"
      ],
      "text/plain": [
       "  item_identifier  item_weight item_fat_content  item_visibility  \\\n",
       "0           FDT36         12.3          Low Fat         0.111448   \n",
       "1           FDT36         12.3          Low Fat         0.111904   \n",
       "2           FDT36         12.3               LF         0.111728   \n",
       "3           FDT36         12.3          Low Fat         0.000000   \n",
       "4           FDP12          9.8          Regular         0.045523   \n",
       "\n",
       "      item_type  item_mrp outlet_identifier  outlet_establishment_year  \\\n",
       "0  Baking Goods   33.4874            OUT049                       1999   \n",
       "1  Baking Goods   33.9874            OUT017                       2007   \n",
       "2  Baking Goods   33.9874            OUT018                       2009   \n",
       "3  Baking Goods   34.3874            OUT019                       1985   \n",
       "4  Baking Goods   35.0874            OUT017                       2007   \n",
       "\n",
       "  outlet_size outlet_location_type        outlet_type  item_outlet_sales  \n",
       "0      Medium               Tier 1  Supermarket Type1         436.608721  \n",
       "1      Medium               Tier 2  Supermarket Type1         443.127721  \n",
       "2      Medium               Tier 3  Supermarket Type2         564.598400  \n",
       "3       Small               Tier 1      Grocery Store        1719.370000  \n",
       "4      Medium               Tier 2  Supermarket Type1         352.874000  "
      ]
     },
     "execution_count": 6,
     "metadata": {},
     "output_type": "execute_result"
    }
   ],
   "source": [
    "df.head()"
   ]
  },
  {
   "cell_type": "code",
   "execution_count": 7,
   "metadata": {},
   "outputs": [
    {
     "name": "stdout",
     "output_type": "stream",
     "text": [
      "item_fat_content has 5 unique values : ['Low Fat' 'LF' 'Regular' 'reg' 'low fat'] \n",
      "\n",
      "item_type has 16 unique values : ['Baking Goods' 'Breads' 'Breakfast' 'Canned' 'Dairy' 'Frozen Foods'\n",
      " 'Fruits and Vegetables' 'Hard Drinks' 'Health and Hygiene' 'Household'\n",
      " 'Meat' 'Others' 'Seafood' 'Snack Foods' 'Soft Drinks' 'Starchy Foods'] \n",
      "\n",
      "outlet_identifier has 10 unique values : ['OUT049' 'OUT017' 'OUT018' 'OUT019' 'OUT046' 'OUT013' 'OUT027' 'OUT045'\n",
      " 'OUT035' 'OUT010'] \n",
      "\n",
      "outlet_establishment_year has 9 unique values : [1999 2007 2009 1985 1997 1987 2002 2004 1998] \n",
      "\n",
      "outlet_size has 3 unique values : ['Medium' 'Small' 'High'] \n",
      "\n",
      "outlet_location_type has 3 unique values : ['Tier 1' 'Tier 2' 'Tier 3'] \n",
      "\n",
      "outlet_type has 4 unique values : ['Supermarket Type1' 'Supermarket Type2' 'Grocery Store'\n",
      " 'Supermarket Type3'] \n",
      "\n"
     ]
    }
   ],
   "source": [
    "unique = [feature for feature in df.columns if len(df[feature].unique())>0 and len(df[feature].unique())<100]\n",
    "for feature in unique:\n",
    "    print(\"{} has {} unique values : {} {}\".format(feature,len(df[feature].unique()),df[feature].unique(),\"\\n\"))"
   ]
  },
  {
   "cell_type": "code",
   "execution_count": 8,
   "metadata": {},
   "outputs": [],
   "source": [
    "df['item_fat_content'] = df['item_fat_content'].str.replace('Low Fat|LF|low fat','low',regex=True)"
   ]
  },
  {
   "cell_type": "code",
   "execution_count": 9,
   "metadata": {},
   "outputs": [],
   "source": [
    "df['item_fat_content'] = df['item_fat_content'].str.replace('Regular|Reg','reg',regex=True)"
   ]
  },
  {
   "cell_type": "code",
   "execution_count": 10,
   "metadata": {},
   "outputs": [
    {
     "name": "stdout",
     "output_type": "stream",
     "text": [
      "item_fat_content has 2 unique values : ['low' 'reg'] \n",
      "\n",
      "item_type has 16 unique values : ['Baking Goods' 'Breads' 'Breakfast' 'Canned' 'Dairy' 'Frozen Foods'\n",
      " 'Fruits and Vegetables' 'Hard Drinks' 'Health and Hygiene' 'Household'\n",
      " 'Meat' 'Others' 'Seafood' 'Snack Foods' 'Soft Drinks' 'Starchy Foods'] \n",
      "\n",
      "outlet_identifier has 10 unique values : ['OUT049' 'OUT017' 'OUT018' 'OUT019' 'OUT046' 'OUT013' 'OUT027' 'OUT045'\n",
      " 'OUT035' 'OUT010'] \n",
      "\n",
      "outlet_establishment_year has 9 unique values : [1999 2007 2009 1985 1997 1987 2002 2004 1998] \n",
      "\n",
      "outlet_size has 3 unique values : ['Medium' 'Small' 'High'] \n",
      "\n",
      "outlet_location_type has 3 unique values : ['Tier 1' 'Tier 2' 'Tier 3'] \n",
      "\n",
      "outlet_type has 4 unique values : ['Supermarket Type1' 'Supermarket Type2' 'Grocery Store'\n",
      " 'Supermarket Type3'] \n",
      "\n"
     ]
    }
   ],
   "source": [
    "unique = [feature for feature in df.columns if len(df[feature].unique())>0 and len(df[feature].unique())<100]\n",
    "for feature in unique:\n",
    "    print(\"{} has {} unique values : {} {}\".format(feature,len(df[feature].unique()),df[feature].unique(),\"\\n\"))"
   ]
  },
  {
   "cell_type": "code",
   "execution_count": 11,
   "metadata": {},
   "outputs": [
    {
     "data": {
      "text/plain": [
       "outlet_type      \n",
       "Supermarket Type1    9294\n",
       "Grocery Store        1805\n",
       "Supermarket Type3    1559\n",
       "Supermarket Type2    1546\n",
       "dtype: int64"
      ]
     },
     "execution_count": 11,
     "metadata": {},
     "output_type": "execute_result"
    }
   ],
   "source": [
    "df[['outlet_type']].value_counts()"
   ]
  },
  {
   "cell_type": "code",
   "execution_count": 12,
   "metadata": {},
   "outputs": [
    {
     "data": {
      "text/plain": [
       "item_identifier                 0\n",
       "item_weight                  2389\n",
       "item_fat_content                0\n",
       "item_visibility                 0\n",
       "item_type                       0\n",
       "item_mrp                        0\n",
       "outlet_identifier               0\n",
       "outlet_establishment_year       0\n",
       "outlet_size                     0\n",
       "outlet_location_type            0\n",
       "outlet_type                     0\n",
       "item_outlet_sales               0\n",
       "dtype: int64"
      ]
     },
     "execution_count": 12,
     "metadata": {},
     "output_type": "execute_result"
    }
   ],
   "source": [
    "df.isnull().sum()"
   ]
  },
  {
   "cell_type": "code",
   "execution_count": 13,
   "metadata": {},
   "outputs": [],
   "source": [
    "df= df.dropna()"
   ]
  },
  {
   "cell_type": "code",
   "execution_count": 14,
   "metadata": {},
   "outputs": [],
   "source": [
    "\n",
    "df=df.drop('item_identifier',axis=1)"
   ]
  },
  {
   "cell_type": "code",
   "execution_count": 15,
   "metadata": {},
   "outputs": [
    {
     "data": {
      "text/html": [
       "<div>\n",
       "<style scoped>\n",
       "    .dataframe tbody tr th:only-of-type {\n",
       "        vertical-align: middle;\n",
       "    }\n",
       "\n",
       "    .dataframe tbody tr th {\n",
       "        vertical-align: top;\n",
       "    }\n",
       "\n",
       "    .dataframe thead th {\n",
       "        text-align: right;\n",
       "    }\n",
       "</style>\n",
       "<table border=\"1\" class=\"dataframe\">\n",
       "  <thead>\n",
       "    <tr style=\"text-align: right;\">\n",
       "      <th></th>\n",
       "      <th>item_weight</th>\n",
       "      <th>item_fat_content</th>\n",
       "      <th>item_visibility</th>\n",
       "      <th>item_type</th>\n",
       "      <th>item_mrp</th>\n",
       "      <th>outlet_identifier</th>\n",
       "      <th>outlet_establishment_year</th>\n",
       "      <th>outlet_size</th>\n",
       "      <th>outlet_location_type</th>\n",
       "      <th>outlet_type</th>\n",
       "      <th>item_outlet_sales</th>\n",
       "    </tr>\n",
       "  </thead>\n",
       "  <tbody>\n",
       "    <tr>\n",
       "      <th>0</th>\n",
       "      <td>12.3</td>\n",
       "      <td>low</td>\n",
       "      <td>0.111448</td>\n",
       "      <td>Baking Goods</td>\n",
       "      <td>33.4874</td>\n",
       "      <td>OUT049</td>\n",
       "      <td>1999</td>\n",
       "      <td>Medium</td>\n",
       "      <td>Tier 1</td>\n",
       "      <td>Supermarket Type1</td>\n",
       "      <td>436.608721</td>\n",
       "    </tr>\n",
       "    <tr>\n",
       "      <th>1</th>\n",
       "      <td>12.3</td>\n",
       "      <td>low</td>\n",
       "      <td>0.111904</td>\n",
       "      <td>Baking Goods</td>\n",
       "      <td>33.9874</td>\n",
       "      <td>OUT017</td>\n",
       "      <td>2007</td>\n",
       "      <td>Medium</td>\n",
       "      <td>Tier 2</td>\n",
       "      <td>Supermarket Type1</td>\n",
       "      <td>443.127721</td>\n",
       "    </tr>\n",
       "    <tr>\n",
       "      <th>2</th>\n",
       "      <td>12.3</td>\n",
       "      <td>low</td>\n",
       "      <td>0.111728</td>\n",
       "      <td>Baking Goods</td>\n",
       "      <td>33.9874</td>\n",
       "      <td>OUT018</td>\n",
       "      <td>2009</td>\n",
       "      <td>Medium</td>\n",
       "      <td>Tier 3</td>\n",
       "      <td>Supermarket Type2</td>\n",
       "      <td>564.598400</td>\n",
       "    </tr>\n",
       "    <tr>\n",
       "      <th>3</th>\n",
       "      <td>12.3</td>\n",
       "      <td>low</td>\n",
       "      <td>0.000000</td>\n",
       "      <td>Baking Goods</td>\n",
       "      <td>34.3874</td>\n",
       "      <td>OUT019</td>\n",
       "      <td>1985</td>\n",
       "      <td>Small</td>\n",
       "      <td>Tier 1</td>\n",
       "      <td>Grocery Store</td>\n",
       "      <td>1719.370000</td>\n",
       "    </tr>\n",
       "    <tr>\n",
       "      <th>4</th>\n",
       "      <td>9.8</td>\n",
       "      <td>reg</td>\n",
       "      <td>0.045523</td>\n",
       "      <td>Baking Goods</td>\n",
       "      <td>35.0874</td>\n",
       "      <td>OUT017</td>\n",
       "      <td>2007</td>\n",
       "      <td>Medium</td>\n",
       "      <td>Tier 2</td>\n",
       "      <td>Supermarket Type1</td>\n",
       "      <td>352.874000</td>\n",
       "    </tr>\n",
       "  </tbody>\n",
       "</table>\n",
       "</div>"
      ],
      "text/plain": [
       "   item_weight item_fat_content  item_visibility     item_type  item_mrp  \\\n",
       "0         12.3              low         0.111448  Baking Goods   33.4874   \n",
       "1         12.3              low         0.111904  Baking Goods   33.9874   \n",
       "2         12.3              low         0.111728  Baking Goods   33.9874   \n",
       "3         12.3              low         0.000000  Baking Goods   34.3874   \n",
       "4          9.8              reg         0.045523  Baking Goods   35.0874   \n",
       "\n",
       "  outlet_identifier  outlet_establishment_year outlet_size  \\\n",
       "0            OUT049                       1999      Medium   \n",
       "1            OUT017                       2007      Medium   \n",
       "2            OUT018                       2009      Medium   \n",
       "3            OUT019                       1985       Small   \n",
       "4            OUT017                       2007      Medium   \n",
       "\n",
       "  outlet_location_type        outlet_type  item_outlet_sales  \n",
       "0               Tier 1  Supermarket Type1         436.608721  \n",
       "1               Tier 2  Supermarket Type1         443.127721  \n",
       "2               Tier 3  Supermarket Type2         564.598400  \n",
       "3               Tier 1      Grocery Store        1719.370000  \n",
       "4               Tier 2  Supermarket Type1         352.874000  "
      ]
     },
     "execution_count": 15,
     "metadata": {},
     "output_type": "execute_result"
    }
   ],
   "source": [
    "df.head()"
   ]
  },
  {
   "cell_type": "code",
   "execution_count": 16,
   "metadata": {},
   "outputs": [
    {
     "data": {
      "text/plain": [
       "<AxesSubplot:ylabel='item_outlet_sales'>"
      ]
     },
     "execution_count": 16,
     "metadata": {},
     "output_type": "execute_result"
    },
    {
     "data": {
      "image/png": "[encoded data removed]",
      "text/plain": [
       "<Figure size 432x288 with 1 Axes>"
      ]
     },
     "metadata": {
      "needs_background": "light"
     },
     "output_type": "display_data"
    }
   ],
   "source": [
    "sns.scatterplot(data =df['item_outlet_sales'])"
   ]
  },
  {
   "cell_type": "code",
   "execution_count": 17,
   "metadata": {},
   "outputs": [
    {
     "data": {
      "text/plain": [
       "<AxesSubplot:ylabel='item_mrp'>"
      ]
     },
     "execution_count": 17,
     "metadata": {},
     "output_type": "execute_result"
    },
    {
     "data": {
      "image/png": "[encoded data removed]",
      "text/plain": [
       "<Figure size 432x288 with 1 Axes>"
      ]
     },
     "metadata": {
      "needs_background": "light"
     },
     "output_type": "display_data"
    }
   ],
   "source": [
    "sns.scatterplot(data =df['item_mrp'])"
   ]
  },
  {
   "cell_type": "code",
   "execution_count": 18,
   "metadata": {},
   "outputs": [],
   "source": [
    "df1=df"
   ]
  },
  {
   "cell_type": "code",
   "execution_count": 19,
   "metadata": {},
   "outputs": [],
   "source": [
    "#sn.pairplot(df,hue='item_outlet_sales',palette=\"winter\")"
   ]
  },
  {
   "cell_type": "code",
   "execution_count": 20,
   "metadata": {},
   "outputs": [
    {
     "data": {
      "text/html": [
       "<div>\n",
       "<style scoped>\n",
       "    .dataframe tbody tr th:only-of-type {\n",
       "        vertical-align: middle;\n",
       "    }\n",
       "\n",
       "    .dataframe tbody tr th {\n",
       "        vertical-align: top;\n",
       "    }\n",
       "\n",
       "    .dataframe thead th {\n",
       "        text-align: right;\n",
       "    }\n",
       "</style>\n",
       "<table border=\"1\" class=\"dataframe\">\n",
       "  <thead>\n",
       "    <tr style=\"text-align: right;\">\n",
       "      <th></th>\n",
       "      <th>item_weight</th>\n",
       "      <th>item_fat_content</th>\n",
       "      <th>item_visibility</th>\n",
       "      <th>item_type</th>\n",
       "      <th>item_mrp</th>\n",
       "      <th>outlet_identifier</th>\n",
       "      <th>outlet_establishment_year</th>\n",
       "      <th>outlet_size</th>\n",
       "      <th>outlet_location_type</th>\n",
       "      <th>outlet_type</th>\n",
       "      <th>item_outlet_sales</th>\n",
       "    </tr>\n",
       "  </thead>\n",
       "  <tbody>\n",
       "    <tr>\n",
       "      <th>0</th>\n",
       "      <td>12.3</td>\n",
       "      <td>low</td>\n",
       "      <td>0.111448</td>\n",
       "      <td>Baking Goods</td>\n",
       "      <td>33.4874</td>\n",
       "      <td>OUT049</td>\n",
       "      <td>1999</td>\n",
       "      <td>Medium</td>\n",
       "      <td>Tier 1</td>\n",
       "      <td>Supermarket Type1</td>\n",
       "      <td>436.608721</td>\n",
       "    </tr>\n",
       "    <tr>\n",
       "      <th>1</th>\n",
       "      <td>12.3</td>\n",
       "      <td>low</td>\n",
       "      <td>0.111904</td>\n",
       "      <td>Baking Goods</td>\n",
       "      <td>33.9874</td>\n",
       "      <td>OUT017</td>\n",
       "      <td>2007</td>\n",
       "      <td>Medium</td>\n",
       "      <td>Tier 2</td>\n",
       "      <td>Supermarket Type1</td>\n",
       "      <td>443.127721</td>\n",
       "    </tr>\n",
       "    <tr>\n",
       "      <th>2</th>\n",
       "      <td>12.3</td>\n",
       "      <td>low</td>\n",
       "      <td>0.111728</td>\n",
       "      <td>Baking Goods</td>\n",
       "      <td>33.9874</td>\n",
       "      <td>OUT018</td>\n",
       "      <td>2009</td>\n",
       "      <td>Medium</td>\n",
       "      <td>Tier 3</td>\n",
       "      <td>Supermarket Type2</td>\n",
       "      <td>564.598400</td>\n",
       "    </tr>\n",
       "    <tr>\n",
       "      <th>3</th>\n",
       "      <td>12.3</td>\n",
       "      <td>low</td>\n",
       "      <td>0.000000</td>\n",
       "      <td>Baking Goods</td>\n",
       "      <td>34.3874</td>\n",
       "      <td>OUT019</td>\n",
       "      <td>1985</td>\n",
       "      <td>Small</td>\n",
       "      <td>Tier 1</td>\n",
       "      <td>Grocery Store</td>\n",
       "      <td>1719.370000</td>\n",
       "    </tr>\n",
       "    <tr>\n",
       "      <th>4</th>\n",
       "      <td>9.8</td>\n",
       "      <td>reg</td>\n",
       "      <td>0.045523</td>\n",
       "      <td>Baking Goods</td>\n",
       "      <td>35.0874</td>\n",
       "      <td>OUT017</td>\n",
       "      <td>2007</td>\n",
       "      <td>Medium</td>\n",
       "      <td>Tier 2</td>\n",
       "      <td>Supermarket Type1</td>\n",
       "      <td>352.874000</td>\n",
       "    </tr>\n",
       "  </tbody>\n",
       "</table>\n",
       "</div>"
      ],
      "text/plain": [
       "   item_weight item_fat_content  item_visibility     item_type  item_mrp  \\\n",
       "0         12.3              low         0.111448  Baking Goods   33.4874   \n",
       "1         12.3              low         0.111904  Baking Goods   33.9874   \n",
       "2         12.3              low         0.111728  Baking Goods   33.9874   \n",
       "3         12.3              low         0.000000  Baking Goods   34.3874   \n",
       "4          9.8              reg         0.045523  Baking Goods   35.0874   \n",
       "\n",
       "  outlet_identifier  outlet_establishment_year outlet_size  \\\n",
       "0            OUT049                       1999      Medium   \n",
       "1            OUT017                       2007      Medium   \n",
       "2            OUT018                       2009      Medium   \n",
       "3            OUT019                       1985       Small   \n",
       "4            OUT017                       2007      Medium   \n",
       "\n",
       "  outlet_location_type        outlet_type  item_outlet_sales  \n",
       "0               Tier 1  Supermarket Type1         436.608721  \n",
       "1               Tier 2  Supermarket Type1         443.127721  \n",
       "2               Tier 3  Supermarket Type2         564.598400  \n",
       "3               Tier 1      Grocery Store        1719.370000  \n",
       "4               Tier 2  Supermarket Type1         352.874000  "
      ]
     },
     "execution_count": 20,
     "metadata": {},
     "output_type": "execute_result"
    }
   ],
   "source": [
    "df1.head()"
   ]
  },
  {
   "cell_type": "code",
   "execution_count": 21,
   "metadata": {},
   "outputs": [],
   "source": [
    "from sklearn.preprocessing import LabelEncoder\n",
    "le=LabelEncoder()"
   ]
  },
  {
   "cell_type": "code",
   "execution_count": 22,
   "metadata": {},
   "outputs": [
    {
     "data": {
      "text/html": [
       "<div>\n",
       "<style scoped>\n",
       "    .dataframe tbody tr th:only-of-type {\n",
       "        vertical-align: middle;\n",
       "    }\n",
       "\n",
       "    .dataframe tbody tr th {\n",
       "        vertical-align: top;\n",
       "    }\n",
       "\n",
       "    .dataframe thead th {\n",
       "        text-align: right;\n",
       "    }\n",
       "</style>\n",
       "<table border=\"1\" class=\"dataframe\">\n",
       "  <thead>\n",
       "    <tr style=\"text-align: right;\">\n",
       "      <th></th>\n",
       "      <th>item_weight</th>\n",
       "      <th>item_fat_content</th>\n",
       "      <th>item_visibility</th>\n",
       "      <th>item_type</th>\n",
       "      <th>item_mrp</th>\n",
       "      <th>outlet_identifier</th>\n",
       "      <th>outlet_establishment_year</th>\n",
       "      <th>outlet_size</th>\n",
       "      <th>outlet_location_type</th>\n",
       "      <th>outlet_type</th>\n",
       "      <th>item_outlet_sales</th>\n",
       "    </tr>\n",
       "  </thead>\n",
       "  <tbody>\n",
       "    <tr>\n",
       "      <th>0</th>\n",
       "      <td>12.3</td>\n",
       "      <td>0</td>\n",
       "      <td>0.111448</td>\n",
       "      <td>0</td>\n",
       "      <td>33.4874</td>\n",
       "      <td>9</td>\n",
       "      <td>1999</td>\n",
       "      <td>1</td>\n",
       "      <td>0</td>\n",
       "      <td>1</td>\n",
       "      <td>436.608721</td>\n",
       "    </tr>\n",
       "    <tr>\n",
       "      <th>1</th>\n",
       "      <td>12.3</td>\n",
       "      <td>0</td>\n",
       "      <td>0.111904</td>\n",
       "      <td>0</td>\n",
       "      <td>33.9874</td>\n",
       "      <td>2</td>\n",
       "      <td>2007</td>\n",
       "      <td>1</td>\n",
       "      <td>1</td>\n",
       "      <td>1</td>\n",
       "      <td>443.127721</td>\n",
       "    </tr>\n",
       "    <tr>\n",
       "      <th>2</th>\n",
       "      <td>12.3</td>\n",
       "      <td>0</td>\n",
       "      <td>0.111728</td>\n",
       "      <td>0</td>\n",
       "      <td>33.9874</td>\n",
       "      <td>3</td>\n",
       "      <td>2009</td>\n",
       "      <td>1</td>\n",
       "      <td>2</td>\n",
       "      <td>2</td>\n",
       "      <td>564.598400</td>\n",
       "    </tr>\n",
       "    <tr>\n",
       "      <th>3</th>\n",
       "      <td>12.3</td>\n",
       "      <td>0</td>\n",
       "      <td>0.000000</td>\n",
       "      <td>0</td>\n",
       "      <td>34.3874</td>\n",
       "      <td>4</td>\n",
       "      <td>1985</td>\n",
       "      <td>2</td>\n",
       "      <td>0</td>\n",
       "      <td>0</td>\n",
       "      <td>1719.370000</td>\n",
       "    </tr>\n",
       "    <tr>\n",
       "      <th>4</th>\n",
       "      <td>9.8</td>\n",
       "      <td>1</td>\n",
       "      <td>0.045523</td>\n",
       "      <td>0</td>\n",
       "      <td>35.0874</td>\n",
       "      <td>2</td>\n",
       "      <td>2007</td>\n",
       "      <td>1</td>\n",
       "      <td>1</td>\n",
       "      <td>1</td>\n",
       "      <td>352.874000</td>\n",
       "    </tr>\n",
       "  </tbody>\n",
       "</table>\n",
       "</div>"
      ],
      "text/plain": [
       "   item_weight  item_fat_content  item_visibility  item_type  item_mrp  \\\n",
       "0         12.3                 0         0.111448          0   33.4874   \n",
       "1         12.3                 0         0.111904          0   33.9874   \n",
       "2         12.3                 0         0.111728          0   33.9874   \n",
       "3         12.3                 0         0.000000          0   34.3874   \n",
       "4          9.8                 1         0.045523          0   35.0874   \n",
       "\n",
       "   outlet_identifier  outlet_establishment_year  outlet_size  \\\n",
       "0                  9                       1999            1   \n",
       "1                  2                       2007            1   \n",
       "2                  3                       2009            1   \n",
       "3                  4                       1985            2   \n",
       "4                  2                       2007            1   \n",
       "\n",
       "   outlet_location_type  outlet_type  item_outlet_sales  \n",
       "0                     0            1         436.608721  \n",
       "1                     1            1         443.127721  \n",
       "2                     2            2         564.598400  \n",
       "3                     0            0        1719.370000  \n",
       "4                     1            1         352.874000  "
      ]
     },
     "execution_count": 22,
     "metadata": {},
     "output_type": "execute_result"
    }
   ],
   "source": [
    "list1=['item_fat_content','item_type','outlet_identifier','outlet_size','outlet_location_type','outlet_type']\n",
    "for i in list1:\n",
    "    df1[i]=le.fit_transform(df1[i])\n",
    "\n",
    "df1.head()"
   ]
  },
  {
   "cell_type": "code",
   "execution_count": 25,
   "metadata": {},
   "outputs": [],
   "source": [
    "x=df1.drop(['item_outlet_sales'],axis=1)"
   ]
  },
  {
   "cell_type": "code",
   "execution_count": 27,
   "metadata": {},
   "outputs": [],
   "source": [
    "y=df1['item_outlet_sales']\n"
   ]
  },
  {
   "cell_type": "code",
   "execution_count": 28,
   "metadata": {},
   "outputs": [
    {
     "data": {
      "text/plain": [
       "((8270, 10), (3545, 10), (8270,), (3545,))"
      ]
     },
     "execution_count": 28,
     "metadata": {},
     "output_type": "execute_result"
    }
   ],
   "source": [
    "from sklearn.model_selection import train_test_split\n",
    "x_train,x_test,y_train,y_test =train_test_split(x,y, test_size=0.3,random_state=2529)\n",
    "x_train.shape,x_test.shape,y_train.shape,y_test.shape"
   ]
  },
  {
   "cell_type": "code",
   "execution_count": 30,
   "metadata": {},
   "outputs": [],
   "source": [
    "from sklearn.linear_model import LinearRegression\n",
    "lr=LinearRegression()\n",
    "lr.fit(x_train,y_train)\n",
    "y_pred = lr.predict(x_test)"
   ]
  },
  {
   "cell_type": "code",
   "execution_count": 46,
   "metadata": {},
   "outputs": [
    {
     "data": {
      "text/plain": [
       "50.965781326350005"
      ]
     },
     "execution_count": 46,
     "metadata": {},
     "output_type": "execute_result"
    }
   ],
   "source": [
    "from sklearn.metrics import mean_squared_error , mean_absolute_error , r2_score ,accuracy_score  \n",
    "lin_reg=r2_score (y_test,y_pred)*100\n",
    "lin_reg"
   ]
  },
  {
   "cell_type": "code",
   "execution_count": null,
   "metadata": {},
   "outputs": [],
   "source": []
  },
  {
   "cell_type": "code",
   "execution_count": 48,
   "metadata": {},
   "outputs": [],
   "source": [
    "from sklearn.ensemble import RandomForestRegressor\n",
    "rfr=RandomForestRegressor()\n",
    "rfr.fit(x_train,y_train)\n",
    "rfr_pred=rfr.predict(x_test)"
   ]
  },
  {
   "cell_type": "code",
   "execution_count": 33,
   "metadata": {},
   "outputs": [
    {
     "name": "stdout",
     "output_type": "stream",
     "text": [
      "Accuracy score for LR : 47.43397191084192\n"
     ]
    }
   ],
   "source": [
    "rfr_score=r2_score(y_test,rfr_pred)*100\n",
    "print(\"Accuracy score for LR :\",rfr_score)"
   ]
  },
  {
   "cell_type": "code",
   "execution_count": 36,
   "metadata": {},
   "outputs": [],
   "source": [
    "from sklearn.linear_model import Lasso\n",
    "la=Lasso()\n",
    "la.fit(x_train,y_train)\n",
    "la_pred=la.predict(x_test)"
   ]
  },
  {
   "cell_type": "code",
   "execution_count": 35,
   "metadata": {},
   "outputs": [
    {
     "name": "stdout",
     "output_type": "stream",
     "text": [
      "Accuracy score for LR : 50.93831115912491\n"
     ]
    }
   ],
   "source": [
    "la_score=r2_score(y_test,la_pred)*100\n",
    "print(\"Accuracy score for LR :\",la_score)"
   ]
  },
  {
   "cell_type": "code",
   "execution_count": 39,
   "metadata": {},
   "outputs": [],
   "source": [
    "from sklearn.svm import SVR\n",
    "svr=SVR()\n",
    "svr.fit(x_train,y_train)\n",
    "svr_pred=svr.predict(x_test)"
   ]
  },
  {
   "cell_type": "code",
   "execution_count": 40,
   "metadata": {},
   "outputs": [
    {
     "name": "stdout",
     "output_type": "stream",
     "text": [
      "Accuracy score for LR : -3.576248128247883\n"
     ]
    }
   ],
   "source": [
    "svr_score=r2_score(y_test,svr_pred)*100\n",
    "print(\"Accuracy score for LR :\",svr_score)"
   ]
  },
  {
   "cell_type": "code",
   "execution_count": null,
   "metadata": {},
   "outputs": [],
   "source": []
  },
  {
   "cell_type": "code",
   "execution_count": 42,
   "metadata": {},
   "outputs": [],
   "source": [
    "from sklearn.linear_model import Ridge\n",
    "rr=Ridge()\n",
    "rr.fit(x_train,y_train)\n",
    "rr_pred=rr.predict(x_test)"
   ]
  },
  {
   "cell_type": "code",
   "execution_count": 43,
   "metadata": {},
   "outputs": [
    {
     "name": "stdout",
     "output_type": "stream",
     "text": [
      "Accuracy score for RidgeR : 50.96558683728969\n"
     ]
    }
   ],
   "source": [
    "from sklearn.metrics import r2_score\n",
    "rr_score=r2_score(y_test,rr_pred)*100\n",
    "print(\"Accuracy score for RidgeR :\",rr_score)"
   ]
  },
  {
   "cell_type": "code",
   "execution_count": 44,
   "metadata": {},
   "outputs": [
    {
     "data": {
      "text/html": [
       "<div>\n",
       "<style scoped>\n",
       "    .dataframe tbody tr th:only-of-type {\n",
       "        vertical-align: middle;\n",
       "    }\n",
       "\n",
       "    .dataframe tbody tr th {\n",
       "        vertical-align: top;\n",
       "    }\n",
       "\n",
       "    .dataframe thead th {\n",
       "        text-align: right;\n",
       "    }\n",
       "</style>\n",
       "<table border=\"1\" class=\"dataframe\">\n",
       "  <thead>\n",
       "    <tr style=\"text-align: right;\">\n",
       "      <th></th>\n",
       "      <th>Model Names</th>\n",
       "      <th>Accuracy socre</th>\n",
       "    </tr>\n",
       "  </thead>\n",
       "  <tbody>\n",
       "    <tr>\n",
       "      <th>0</th>\n",
       "      <td>Linear Reg</td>\n",
       "      <td>50.965781</td>\n",
       "    </tr>\n",
       "    <tr>\n",
       "      <th>1</th>\n",
       "      <td>Ridge Reg</td>\n",
       "      <td>50.965587</td>\n",
       "    </tr>\n",
       "    <tr>\n",
       "      <th>2</th>\n",
       "      <td>Lasso Reg</td>\n",
       "      <td>50.938311</td>\n",
       "    </tr>\n",
       "    <tr>\n",
       "      <th>3</th>\n",
       "      <td>RandomForest Reg</td>\n",
       "      <td>47.433972</td>\n",
       "    </tr>\n",
       "    <tr>\n",
       "      <th>4</th>\n",
       "      <td>Support Vector Reg</td>\n",
       "      <td>-3.576248</td>\n",
       "    </tr>\n",
       "  </tbody>\n",
       "</table>\n",
       "</div>"
      ],
      "text/plain": [
       "          Model Names  Accuracy socre\n",
       "0          Linear Reg       50.965781\n",
       "1           Ridge Reg       50.965587\n",
       "2           Lasso Reg       50.938311\n",
       "3    RandomForest Reg       47.433972\n",
       "4  Support Vector Reg       -3.576248"
      ]
     },
     "execution_count": 44,
     "metadata": {},
     "output_type": "execute_result"
    }
   ],
   "source": [
    "pd.DataFrame({\"Model Names\":['Linear Reg','Ridge Reg','Lasso Reg','RandomForest Reg','Support Vector Reg'],\n",
    "            \"Accuracy socre\":[lin_reg,rr_score,la_score,rfr_score,svr_score]})"
   ]
  },
  {
   "cell_type": "code",
   "execution_count": null,
   "metadata": {},
   "outputs": [],
   "source": []
  }
 ],
 "metadata": {
  "kernelspec": {
   "display_name": "Python 3",
   "language": "python",
   "name": "python3"
  },
  "language_info": {
   "codemirror_mode": {
    "name": "ipython",
    "version": 3
   },
   "file_extension": ".py",
   "mimetype": "text/x-python",
   "name": "python",
   "nbconvert_exporter": "python",
   "pygments_lexer": "ipython3",
   "version": "3.8.5"
  }
 },
 "nbformat": 4,
 "nbformat_minor": 4
}
